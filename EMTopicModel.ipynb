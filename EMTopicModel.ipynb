{
 "cells": [
  {
   "cell_type": "code",
   "execution_count": null,
   "metadata": {},
   "outputs": [],
   "source": [
    "%matplotlib inline\n",
    "%load_ext autoreload\n",
    "%autoreload 2\n",
    "\n",
    "import matplotlib.pyplot as plt\n",
    "import numpy as np\n",
    "import seaborn as sns\n",
    "import pandas as pd\n",
    "\n",
    "from scipy.special import logsumexp\n",
    "\n",
    "from aml_utils import test_case_checker, perform_computation"
   ]
  },
  {
   "cell_type": "markdown",
   "metadata": {},
   "source": [
    "# *Assignment Summary"
   ]
  },
  {
   "cell_type": "markdown",
   "metadata": {},
   "source": [
    "**EM Topic models** The UCI Machine Learning dataset repository hosts several datasets recording word counts for documents at https://archive.ics.uci.edu/ml/datasets/Bag+of+Words. You will use the NIPS dataset. You will find (a) a table of word counts per document and (b) a vocabulary list for this dataset at the link. You must implement the multinomial mixture of topics model, lectured in class. For this problem, you should write the clustering code yourself (i.e. not use a package for clustering).\n",
    "  * Cluster this to 30 topics, using a simple mixture of multinomial topic model, as lectured in class.\n",
    "  * Produce a graph showing, for each topic, the probability with which the topic is selected.\n",
    "  * Produce a table showing, for each topic, the 10 words with the highest probability for that topic."
   ]
  },
  {
   "cell_type": "markdown",
   "metadata": {},
   "source": [
    "# *EM for Topic model in Matrix Form"
   ]
  },
  {
   "cell_type": "markdown",
   "metadata": {},
   "source": [
    "For you convenience, we bring the reading assignment file here so that you can use it.\n",
    "\n",
    "<font color='red'> **Caution** </font> Depending on your browser, you might need to right click on this pdf document to see the display options."
   ]
  },
  {
   "cell_type": "code",
   "execution_count": null,
   "metadata": {},
   "outputs": [],
   "source": [
    "from IPython.display import IFrame\n",
    "IFrame(\"../EMTopicModel-lib/EMTopicModel.pdf\", width=1000, height=800)"
   ]
  },
  {
   "cell_type": "markdown",
   "metadata": {},
   "source": [
    "# 0. Data"
   ]
  },
  {
   "cell_type": "markdown",
   "metadata": {},
   "source": [
    "## 0.1 Description"
   ]
  },
  {
   "cell_type": "markdown",
   "metadata": {},
   "source": [
    "There are multiple collection of word-count datasets available at https://archive.ics.uci.edu/ml/datasets/Bag+of+Words . We will be using the NIPS collection of words in this exercise. This dataset is composed of papers presented at the Conference of Neural Information Processing Systems (formerly NIPS, which is now knows as NeurIPS)."
   ]
  },
  {
   "cell_type": "markdown",
   "metadata": {},
   "source": [
    "## 0.2 Information Summary"
   ]
  },
  {
   "cell_type": "markdown",
   "metadata": {},
   "source": [
    "* **Input/Output**: There are a total of 12419 words counted, and 1500 documents were surveyed. Therefore, the data can be stored in a count array with a shape of `(1500, 12419)`.\n",
    "\n",
    "* **Missing Data**: There is no missing data.\n",
    "\n",
    "* **Final Goal**: We want to fit an EM topic model for clustering the documents."
   ]
  },
  {
   "cell_type": "code",
   "execution_count": null,
   "metadata": {},
   "outputs": [],
   "source": [
    "data_file = f'../EMTopicModel-lib/words/docword.nips.txt'\n",
    "\n",
    "with open(data_file) as fh:\n",
    "    for line_num, line in enumerate(fh):\n",
    "        if line_num == 0:\n",
    "            N = int(line) # Number of documents\n",
    "        elif line_num == 1:\n",
    "            d = int(line) # Number of words\n",
    "            X = np.zeros((N, d))\n",
    "        elif line_num == 2:\n",
    "            NNZ = int(line)\n",
    "        else:\n",
    "            doc_id, word_id, count = tuple([int(a) for a in line.split(' ')])\n",
    "            X[doc_id-1, word_id-1] = count\n",
    "\n",
    "assert X[X>0].size == NNZ"
   ]
  },
  {
   "cell_type": "code",
   "execution_count": null,
   "metadata": {},
   "outputs": [],
   "source": [
    "with open('../EMTopicModel-lib/words/vocab.nips.txt') as fh2:\n",
    "    words = [line.rstrip() for line in fh2]\n",
    "    \n",
    "assert len(words) == d"
   ]
  },
  {
   "cell_type": "markdown",
   "metadata": {},
   "source": [
    "# 1. Implementing the EM Topic Model"
   ]
  },
  {
   "cell_type": "markdown",
   "metadata": {},
   "source": [
    "# <span style=\"color:blue\">Task 1</span>"
   ]
  },
  {
   "cell_type": "markdown",
   "metadata": {},
   "source": [
    "In this task, we want to implement the E-step.\n",
    "\n",
    "Write a function `find_logW` that calculates the $\\log W_{i,j}$ matrix, and takes the following arguments as input:\n",
    "\n",
    "1. `X`: A numpy array of the shape `(N,d)` where `N` is the number of documents and `d` is the number of words. Do not assume anything about `N` or `d` other than being a positive integer. This variable is equivalent to the data matrix $X$ in the review document above.\n",
    "2. `log_P`: A numpy array of the shape `(t,d)` where `t` is the number of topics for clustering and `d` is the number of words. Again, do not assume anything about `t` or `d` other than being a positive integer. This variable is equivalent to the element-wise natural log of the topic probability matrix $P$ in the review document above, which we also showed by $\\tilde{P}$.\n",
    "3. `log_pi`: A numpy array of the shape `(t,1)` where `t` is the number of topics for clustering. This variable is equivalent to the element-wise natural log of the prior probabilities vector $\\pi$ in the review document above, which we also showed by $\\tilde{\\pi}$.\n",
    "\n",
    "Your model should return the numpy array `log_W` with the shape of `(N, t)` whose $i^{th}$ row and $j^{th}$ column should be\n",
    "$$\\log W_{i,j} = \\log\\bigg(\\frac{\\pi_j \\prod_{k=1}^{d} P_{j,k}^{x_{i,k}}}{\\sum_{l=1}^{t} \\pi_l \\prod_{k=1}^{d} P_{l,k}^{x_{i,k}}}\\bigg).$$\n",
    "\n",
    "**Important Note**: You **should** use the `logsumexp` function imported above from scipy's library to make sure that numerical stability would not be a problem."
   ]
  },
  {
   "cell_type": "code",
   "execution_count": null,
   "metadata": {
    "deletable": false
   },
   "outputs": [],
   "source": [
    "def find_logW(X, log_P, log_pi):\n",
    "    \"\"\"\n",
    "    Compute the weights W from the E step of expectation maximization.\n",
    "    \n",
    "        Parameters:\n",
    "                X (np.array): A numpy array of the shape (N,d) where N is the number of documents and d is the number of words.\n",
    "                log_P (np.array): A numpy array of the shape (t,d) where t is the number of topics for clustering and d is the number of words.\n",
    "                log_pi (np.array): A numpy array of the shape (t,1) where t is the number of topics for clustering.\n",
    "                \n",
    "        Returns:\n",
    "                log_W (np.array): A numpy array of the shape (N,t) where N is the number of documents and t is the number of topics for clustering.\n",
    "    \"\"\"\n",
    "    N, d = X.shape\n",
    "    t = log_pi.shape[0]\n",
    "    \n",
    "    # your code here\n",
    "    raise NotImplementedError\n",
    "    \n",
    "    assert log_W.shape == (N, t)\n",
    "    return log_W"
   ]
  },
  {
   "cell_type": "code",
   "execution_count": null,
   "metadata": {},
   "outputs": [],
   "source": [
    "# Performing sanity checks on your implementation\n",
    "some_X = 1 + (np.arange(35).reshape(7,5) ** 13) % 20\n",
    "some_log_P = np.log(some_X[:3, :]/np.sum(some_X[:3, :], axis=1).reshape(-1,1))\n",
    "some_log_pi = np.log(some_X[:3, 0]/np.sum(some_X[:3, 0])).reshape(-1,1)\n",
    "some_log_W = find_logW(some_X, some_log_P, some_log_pi)\n",
    "\n",
    "assert np.array_equal(some_log_W.round(2), np.array([[ -0.  ,  -9.07,  -6.1 ],\n",
    "                                                     [-24.61,  -0.  , -12.27],\n",
    "                                                     [-12.59,  -6.01,  -0.  ],\n",
    "                                                     [-23.81,  -0.  , -29.1 ],\n",
    "                                                     [ -0.  ,  -9.07,  -6.1 ],\n",
    "                                                     [-24.61,  -0.  , -14.62],\n",
    "                                                     [-29.96,  -0.  , -10.82]]))\n",
    "\n",
    "# Checking against the pre-computed test database\n",
    "test_results = test_case_checker(find_logW, task_id=1)\n",
    "assert test_results['passed'], test_results['message']"
   ]
  },
  {
   "cell_type": "code",
   "execution_count": null,
   "metadata": {
    "code_folding": [
     73,
     135
    ],
    "deletable": false,
    "editable": false,
    "nbgrader": {
     "cell_type": "code",
     "checksum": "0dec04f96aa284137fc3c1318185539d",
     "grade": true,
     "grade_id": "cell-23ce665797d693a9",
     "locked": true,
     "points": 1,
     "schema_version": 3,
     "solution": false,
     "task": false
    }
   },
   "outputs": [],
   "source": [
    "# This cell is left empty as a seperator. You can leave this cell as it is, and you should not delete it.\n"
   ]
  },
  {
   "cell_type": "markdown",
   "metadata": {},
   "source": [
    "# <span style=\"color:blue\">Task 2</span>"
   ]
  },
  {
   "cell_type": "markdown",
   "metadata": {},
   "source": [
    "In this task, we want to implement the first part of the M-step.\n",
    "\n",
    "Write a function `update_logP` that does the maximization step for the $\\log P_{i,j}$ matrix, and takes the following arguments as input:\n",
    "\n",
    "1. `X`: A numpy array of the shape `(N,d)` where `N` is the number of documents and `d` is the number of words. Do not assume anything about `N` or `d` other than being a positive integer. This variable is equivalent to the data matrix $X$ in the review document above.\n",
    "2. `log_W`: A numpy array of the shape `(N,t)` where `N` is the number of documents and `t` is the number of topics for clustering. Again, do not assume anything about `t` other than being a positive integer. This variable is equivalent to the element-wise natural log of the $W$ matrix referenced in the document above and in the textbook. We also used the notation $\\tilde{W}$ for this matrix in the document above. `log_W` is the same as the output from the previous function you wrote.\n",
    "3. `eps`: A very small $\\epsilon$ scalar added to make sure the log operation has enough numerical stability. The document above suggests computing the matrix $E$ using the following relation\n",
    "$$E_{t\\times d} = [W^T]_{t\\times N} \\cdot X_{N\\times d}. $$\n",
    "However, we will make a small modification to this calculation by incorporating an insurance epsilon.\n",
    "$$E_{t\\times d} = [W^T]_{t\\times N} \\cdot X_{N\\times d} + \\epsilon.$$\n",
    "You should implement the $E = W^T \\cdot X + \\epsilon$ in your code.\n",
    "\n",
    "Your model should return the numpy array `log_P` with the shape of `(t, d)` whose $j^{th}$ row should be\n",
    "$$\\log \\mathbf{p}_j = \\log \\left(\\frac{\\sum_{i=1}^{N} \\mathbf{x}_i W_{i,j}}{\\sum_{i=1}^{N} (\\mathbf{x}_i^T\\mathbf{1}) W_{i,j}}\\right).$$\n",
    "Here, $\\log$ is the element-wise logarithm in the natural basis.\n",
    "\n",
    "**Important Note**: You **should** use the `logsumexp` function imported above from scipy's library to make sure that numerical stability would not be a problem."
   ]
  },
  {
   "cell_type": "code",
   "execution_count": null,
   "metadata": {
    "deletable": false
   },
   "outputs": [],
   "source": [
    "def update_logP(X, log_W, eps=1e-100):\n",
    "    \"\"\"\n",
    "    Compute the parameters log(P) from the M step of expectation maximization.\n",
    "    \n",
    "        Parameters:\n",
    "                X (np.array): A numpy array of the shape (N,d) where N is the number of documents and d is the number of words.\n",
    "                log_W (np.array): A numpy array of the shape (N,t) where N is the number of documents and t is the number of topics for clustering.\n",
    "                \n",
    "        Returns:\n",
    "                log_P (np.array): A numpy array of the shape (t,d) where t is the number of topics for clustering and d is the number of words.\n",
    "    \"\"\"\n",
    "    N, d = X.shape\n",
    "    t = log_W.shape[1]\n",
    "    assert log_W.shape[0] == N\n",
    "    \n",
    "    # your code here\n",
    "    raise NotImplementedError\n",
    "    \n",
    "    assert log_P.shape == (t, d)\n",
    "    return log_P"
   ]
  },
  {
   "cell_type": "code",
   "execution_count": null,
   "metadata": {},
   "outputs": [],
   "source": [
    "# Performing sanity checks on your implementation\n",
    "some_X = 1 + (np.arange(35).reshape(7,5) ** 13) % 20\n",
    "some_log_P = np.log(some_X[:3, :]/np.sum(some_X[:3, :], axis=1).reshape(-1,1))\n",
    "some_log_pi = np.log(some_X[:3, 0]/np.sum(some_X[:3, 0])).reshape(-1,1)\n",
    "some_log_W = find_logW(some_X, some_log_P, some_log_pi)\n",
    "\n",
    "assert np.array_equal(update_logP(some_X, some_log_W, eps=1e-100).round(2), np.array([[-3.22, -2.53, -0.65, -1.83, -1.61],\n",
    "                                                                                      [-1.87, -1.16, -1.81, -1.86, -1.55],\n",
    "                                                                                      [-3.8 , -1.32, -1.24, -1.17, -2.2 ]]))\n",
    "\n",
    "# Checking against the pre-computed test database\n",
    "test_results = test_case_checker(update_logP, task_id=2)\n",
    "assert test_results['passed'], test_results['message']"
   ]
  },
  {
   "cell_type": "code",
   "execution_count": null,
   "metadata": {
    "deletable": false,
    "editable": false,
    "nbgrader": {
     "cell_type": "code",
     "checksum": "e6e258ade011e3046c5cee79d26ace96",
     "grade": true,
     "grade_id": "cell-a0814b936732e0fd",
     "locked": true,
     "points": 1,
     "schema_version": 3,
     "solution": false,
     "task": false
    }
   },
   "outputs": [],
   "source": [
    "# This cell is left empty as a seperator. You can leave this cell as it is, and you should not delete it.\n"
   ]
  },
  {
   "cell_type": "markdown",
   "metadata": {},
   "source": [
    "# <span style=\"color:blue\">Task 3</span>"
   ]
  },
  {
   "cell_type": "markdown",
   "metadata": {},
   "source": [
    "In this task, we want to implement the second part of the M-step.\n",
    "\n",
    "Write a function `update_log_pi` that does the maximization step for the $\\log \\pi$ vector, and takes the following arguments as input:\n",
    "\n",
    "1. `log_W`: A numpy array of the shape `(N,t)` where `N` is the number of documents and `t` is the number of topics for clustering. Again, do not assume anything about `t` other than being a positive integer. This variable is equivalent to the element-wise natural log of the $W$ matrix referenced in the document above and in the textbook. We also used the notation $\\tilde{W}$ for this matrix in the document above. `log_W` is the same as the output from the previous functions you wrote.\n",
    "\n",
    "The output of the function should be the `log_pi` numpy array with a shape of `(t,1)` whose $j^{th}$ element should be \n",
    "$$\\log \\pi_j = \\log\\bigg(\\frac{\\sum_{i=1}^{N} W_{i,j}}{N}\\bigg).$$\n",
    "\n",
    "**Important Note**: You **should** use the `logsumexp` function imported above from scipy's library to make sure that numerical stability would not be a problem."
   ]
  },
  {
   "cell_type": "code",
   "execution_count": null,
   "metadata": {
    "deletable": false
   },
   "outputs": [],
   "source": [
    "def update_log_pi(log_W):\n",
    "    \"\"\"\n",
    "    Compute the prior pi from the M step of expectation maximization.\n",
    "    \n",
    "        Parameters:\n",
    "                log_W (np.array): A numpy array of the shape (N,t) where N is the number of documents and t is the number of topics for clustering.\n",
    "                \n",
    "        Returns:\n",
    "                log_pi (np.array): A numpy array of the shape (t,1) where t is the number of topics for clustering.\n",
    "    \"\"\"\n",
    "    N, t = log_W.shape\n",
    "    \n",
    "    # your code here\n",
    "    raise NotImplementedError\n",
    "    \n",
    "    assert log_pi.shape == (t,1)\n",
    "    return log_pi"
   ]
  },
  {
   "cell_type": "code",
   "execution_count": null,
   "metadata": {},
   "outputs": [],
   "source": [
    "# Performing sanity checks on your implementation\n",
    "some_X = 1 + (np.arange(35).reshape(7,5) ** 13) % 20\n",
    "some_log_P = np.log(some_X[:3, :]/np.sum(some_X[:3, :], axis=1).reshape(-1,1))\n",
    "some_log_pi = np.log(some_X[:3, 0]/np.sum(some_X[:3, 0])).reshape(-1,1)\n",
    "some_log_W = find_logW(some_X, some_log_P, some_log_pi)\n",
    "\n",
    "assert np.array_equal(update_log_pi(some_log_W).round(2), np.array([[-1.26],\n",
    "                                                                    [-0.56],\n",
    "                                                                    [-1.94]]))\n",
    "\n",
    "# Checking against the pre-computed test database\n",
    "test_results = test_case_checker(update_log_pi, task_id=3)\n",
    "assert test_results['passed'], test_results['message']"
   ]
  },
  {
   "cell_type": "code",
   "execution_count": null,
   "metadata": {
    "deletable": false,
    "editable": false,
    "nbgrader": {
     "cell_type": "code",
     "checksum": "0d95bd2810a4e5256d5e082a0818afe4",
     "grade": true,
     "grade_id": "cell-fef47711d5e1783e",
     "locked": true,
     "points": 1,
     "schema_version": 3,
     "solution": false,
     "task": false
    }
   },
   "outputs": [],
   "source": [
    "# This cell is left empty as a seperator. You can leave this cell as it is, and you should not delete it.\n"
   ]
  },
  {
   "cell_type": "markdown",
   "metadata": {},
   "source": [
    "# 2. Running the Topic Model EM Algorithm"
   ]
  },
  {
   "cell_type": "code",
   "execution_count": null,
   "metadata": {},
   "outputs": [],
   "source": [
    "def TopicModel(X, t, iterations=100, seed=12345):\n",
    "    N, d = X.shape\n",
    "\n",
    "    np_random = np.random.RandomState(seed=seed)\n",
    "    pi_init = np.ones((t,1))/float(t)\n",
    "    \n",
    "    if True:\n",
    "        P_init = np_random.uniform(0, 1, (t, d))\n",
    "    else:\n",
    "        X_copy = X.copy()\n",
    "        np_random.shuffle(X_copy)\n",
    "        \n",
    "        c = N//t\n",
    "        P_init = np.zeros((t, d))\n",
    "        for k in range(t):\n",
    "            P_init[k, :] = (X_copy[(c*k):(c*(k+1)), :]).sum(axis=0) + 1e-1\n",
    "            \n",
    "    P_init = P_init/P_init.sum(axis=1).reshape(-1, 1)\n",
    "\n",
    "    log_pi = np.log(pi_init) # log_pi.shape == (t,1)\n",
    "    log_P = np.log(P_init) # log_P.shape == (t,d)\n",
    "    assert log_pi.shape == (t,1)\n",
    "    \n",
    "    log_W = None\n",
    "    for iteration in range(iterations):\n",
    "        print('.', end='')\n",
    "        #The E-Step\n",
    "        log_W = find_logW(X, log_P, log_pi)\n",
    "\n",
    "        #The M-Step\n",
    "        log_P = update_logP(X, log_W)\n",
    "        log_pi = update_log_pi(log_W)\n",
    "    \n",
    "    return log_pi, log_P, log_W"
   ]
  },
  {
   "cell_type": "markdown",
   "metadata": {},
   "source": [
    "Let's use 30 topics (as instructed in the assignment summary) and 100 iterations for a start. \n",
    "\n",
    "It is a wonderful thought exercise to play with the number of iterations, and see where the results seem to be unaffected by the more iterations, which is possibly a sign of the algorithm converging."
   ]
  },
  {
   "cell_type": "code",
   "execution_count": null,
   "metadata": {},
   "outputs": [],
   "source": [
    "if perform_computation:\n",
    "    log_pi, log_P, log_W = TopicModel(X, t=30, iterations=100, seed=12345)"
   ]
  },
  {
   "cell_type": "markdown",
   "metadata": {},
   "source": [
    "## 2.1 Visualizing Topic Frequencies"
   ]
  },
  {
   "cell_type": "code",
   "execution_count": null,
   "metadata": {},
   "outputs": [],
   "source": [
    "if perform_computation:\n",
    "    fig, ax=plt.subplots(figsize=(8,3), dpi=120)\n",
    "    sns.barplot(x=np.arange(30), y=np.exp(log_pi).reshape(-1), ax=ax)\n",
    "    ax.set_title(f'Topic Frequencies')\n",
    "    ax.set_xlabel(f'Topic Number')\n",
    "    _ = ax.set_ylabel(f'Topic Density')"
   ]
  },
  {
   "cell_type": "markdown",
   "metadata": {},
   "source": [
    "## 2.2 Printing The Most Frequent Words in Each Topic"
   ]
  },
  {
   "cell_type": "code",
   "execution_count": null,
   "metadata": {},
   "outputs": [],
   "source": [
    "if perform_computation:\n",
    "    top_indices = np.argsort(log_P, axis=1)[:,::-1][:, :10]\n",
    "    top_words = [[words[x] for x in top_indices_row] for top_indices_row in top_indices]\n",
    "\n",
    "    fig, ax = plt.subplots(figsize=(8,3), dpi=120)\n",
    "    col_labels = ['1st Word', '2nd Word', '3rd Word'] + [f'{i}th Word' for i in range(4,11)]\n",
    "    row_labels = [f'Topic {t_idx}' for t_idx in range(log_P.shape[0])]\n",
    "    table_ = ax.table(top_words, colLabels=col_labels, rowLabels=row_labels)\n",
    "\n",
    "    table_.auto_set_font_size(False)\n",
    "    table_.set_fontsize(32)\n",
    "    table_.scale(4, 4)\n",
    "\n",
    "    # Removing ticks and spines enables you to get the figure only with table\n",
    "    plt.tick_params(axis='x', which='both', bottom=False, top=False, labelbottom=False)\n",
    "    plt.tick_params(axis='y', which='both', right=False, left=False, labelleft=False)\n",
    "    for pos in ['right','top','bottom','left']:\n",
    "        plt.gca().spines[pos].set_visible(False)\n",
    "\n",
    "    fig.tight_layout()"
   ]
  },
  {
   "cell_type": "code",
   "execution_count": null,
   "metadata": {},
   "outputs": [],
   "source": []
  }
 ],
 "metadata": {
  "illinois_payload": {
   "b64z": "",
   "nb_path": "release/EMTopicModel/EMTopicModel.ipynb"
  },
  "kernelspec": {
   "display_name": "Python 3 (Threads: 2)",
   "language": "python",
   "name": "python3"
  },
  "language_info": {
   "codemirror_mode": {
    "name": "ipython",
    "version": 3
   },
   "file_extension": ".py",
   "mimetype": "text/x-python",
   "name": "python",
   "nbconvert_exporter": "python",
   "pygments_lexer": "ipython3",
   "version": "3.8.12"
  }
 },
 "nbformat": 4,
 "nbformat_minor": 4
}
